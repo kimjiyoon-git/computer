{
  "cells": [
    {
      "cell_type": "markdown",
      "metadata": {
        "id": "view-in-github",
        "colab_type": "text"
      },
      "source": [
        "<a href=\"https://colab.research.google.com/github/kimjiyoon-study/computer/blob/main/01_Python_ipynb1%EC%9D%98_%EC%82%AC%EB%B3%B8.ipynb\" target=\"_parent\"><img src=\"https://colab.research.google.com/assets/colab-badge.svg\" alt=\"Open In Colab\"/></a>"
      ]
    },
    {
      "cell_type": "markdown",
      "metadata": {
        "id": "dzNng6vCL9eP"
      },
      "source": [
        "# Python 기초\n"
      ]
    },
    {
      "cell_type": "markdown",
      "metadata": {
        "id": "0vJLt3JRL9eR"
      },
      "source": [
        "이 수업에서는 Python에 대해서 다음과 같은 내용을 다룬다.\n",
        "\n",
        "  - 기본 데이터 타입과 연산 \n",
        "  - 컨테이너(container): List, Dictionary, Set, Tuple\n",
        "  - Function과 Class"
      ]
    },
    {
      "cell_type": "markdown",
      "metadata": {
        "id": "nxvEkGXPM3Xh"
      },
      "source": [
        "## Python 버전에 대하여\n",
        "\n",
        "* 파이썬의 두 가지 버전 Python 2.7과 Python 3.x가 동시에 사용되어 왔지만 2020년 1월에 Python 2에 대한 지원이 공식적으로 종료\n",
        "\n",
        "* 우리 수업에서는 Python 3.8 혹은 3.9를 사용\n",
        "\n",
        "* 커맨드라인에 다음의 명령어로 현재 시스템에 설치된 파이썬 버전을 확인할 수 있음: `python --version`. "
      ]
    },
    {
      "cell_type": "code",
      "execution_count": null,
      "metadata": {
        "colab": {
          "base_uri": "https://localhost:8080/"
        },
        "id": "1L4Am0QATgOc",
        "outputId": "8a7b0d04-d842-42a1-ef6b-bb9296085e59"
      },
      "outputs": [
        {
          "output_type": "stream",
          "name": "stdout",
          "text": [
            "Python 3.7.12\n"
          ]
        }
      ],
      "source": [
        "!python --version"
      ]
    },
    {
      "cell_type": "markdown",
      "metadata": {
        "id": "NwS_hu4xL9eo"
      },
      "source": [
        "## 기본 데이터 타입 \n",
        "\n",
        "다른 프로그래밍 언어들처럼 파이썬에도 정수, 실수, 불리언, 문자열 같은 기본 자료형이 있다."
      ]
    },
    {
      "cell_type": "markdown",
      "metadata": {
        "id": "DL5sMSZ9L9eq"
      },
      "source": [
        "#### Numbers"
      ]
    },
    {
      "cell_type": "markdown",
      "metadata": {
        "id": "MGS0XEWoL9er"
      },
      "source": [
        "파이썬의 정수형(Integers)과 실수형(floats) 데이터 타입은 다른 언어와 거의 유사하다. \n",
        "\n",
        "\n",
        "\n"
      ]
    },
    {
      "cell_type": "code",
      "execution_count": null,
      "metadata": {
        "colab": {
          "base_uri": "https://localhost:8080/"
        },
        "id": "KheDr_zDL9es",
        "outputId": "395d05b7-4fad-4b86-a8b4-8ee80b65fab8"
      },
      "outputs": [
        {
          "output_type": "stream",
          "name": "stdout",
          "text": [
            "3 <class 'int'>\n"
          ]
        }
      ],
      "source": [
        "x = 3\n",
        "print(x, type(x))     # `type`함수를 이용하여 데이터의 타입을 확인할 수 있다."
      ]
    },
    {
      "cell_type": "code",
      "execution_count": null,
      "metadata": {
        "id": "sk_8DFcuL9ey",
        "outputId": "98fc77ec-d75a-4d60-e757-c2fd8aec885c",
        "colab": {
          "base_uri": "https://localhost:8080/"
        }
      },
      "outputs": [
        {
          "output_type": "stream",
          "name": "stdout",
          "text": [
            "4\n",
            "2\n",
            "6\n",
            "27\n"
          ]
        }
      ],
      "source": [
        "print(x + 1)   # Addition\n",
        "print(x - 1)   # Subtraction\n",
        "print(x * 2)   # Multiplication\n",
        "print(x ** 3)  # Exponentiation"
      ]
    },
    {
      "cell_type": "code",
      "execution_count": null,
      "metadata": {
        "colab": {
          "base_uri": "https://localhost:8080/"
        },
        "id": "U4Jl8K0tL9e4",
        "outputId": "8e4dbd42-b97f-4636-b87e-76f535dcb9fd"
      },
      "outputs": [
        {
          "output_type": "stream",
          "name": "stdout",
          "text": [
            "4\n",
            "8\n"
          ]
        }
      ],
      "source": [
        "x += 1\n",
        "print(x)\n",
        "x *= 2\n",
        "print(x)"
      ]
    },
    {
      "cell_type": "code",
      "execution_count": null,
      "metadata": {
        "colab": {
          "base_uri": "https://localhost:8080/"
        },
        "id": "w-nZ0Sg_L9e9",
        "outputId": "a7ef16f0-95e8-478d-be22-c9aaf07ca366"
      },
      "outputs": [
        {
          "output_type": "stream",
          "name": "stdout",
          "text": [
            "<class 'float'>\n",
            "2.5 3.5 5.0 6.25\n",
            "2\n",
            "8.0\n",
            "0.25\n",
            "0\n",
            "2\n"
          ]
        }
      ],
      "source": [
        "y = 2.5\n",
        "print(type(y))\n",
        "print(y, y + 1, y * 2, y ** 2)\n",
        "\n",
        "print(int(y))       # 정수로 타입 캐스팅    (int)y\n",
        "print(float(x))     # 실수로 타입 캐스팅\n",
        "\n",
        "print(int(y)/x)     # 피연산자가 둘 다 정수지만 결과는 실수이다.\n",
        "print((int(y)//x))  # //는 몫을 구하는 연산이다.\n",
        "print(int(y) % x)   # %는 나머지를 구하는 연산이다."
      ]
    },
    {
      "cell_type": "markdown",
      "metadata": {
        "id": "r2A9ApyaL9fB"
      },
      "source": [
        "Python에는 \n",
        "\n",
        "- 증감 단항연산자(`x++`, `x--`)\n",
        "가 없으며, \n",
        "- 지수연산자 `**`가 제공된다. \n",
        "- 또한 Python 3에서는 나눗셈에서 피연산자가 모두 정수인 경우에도 결과는 실수가 된다.\n",
        "- 몫을 구하는 연산자는 `//`이며, 나머지 연산자는 `%`이다.\n",
        "- 파이썬은 long 정수형과 복소수 데이터 타입도 지원한다. 자세한 사항은 [문서](https://docs.python.org/3.7/library/stdtypes.html#numeric-types-int-float-long-complex)를 참조하라."
      ]
    },
    {
      "cell_type": "markdown",
      "metadata": {
        "id": "EqRS7qhBL9fC"
      },
      "source": [
        "#### Booleans"
      ]
    },
    {
      "cell_type": "markdown",
      "metadata": {
        "id": "Nv_LIVOJL9fD"
      },
      "source": [
        "논리연산자는 기호(`&&`, `||`, `~`) 대신 영어 단어(`and`, `or`, `not`)를 사용한다."
      ]
    },
    {
      "cell_type": "code",
      "execution_count": null,
      "metadata": {
        "colab": {
          "base_uri": "https://localhost:8080/"
        },
        "id": "RvoImwgGL9fE",
        "outputId": "524ff7ba-9c3b-4c48-be0c-2a65c7a88e18"
      },
      "outputs": [
        {
          "name": "stdout",
          "output_type": "stream",
          "text": [
            "<class 'bool'>\n"
          ]
        }
      ],
      "source": [
        "t, f = True, False    # 이렇게 동시에 여러 변수에 치환할 수 있다.\n",
        "print(type(t))"
      ]
    },
    {
      "cell_type": "code",
      "execution_count": null,
      "metadata": {
        "colab": {
          "base_uri": "https://localhost:8080/"
        },
        "id": "6zYm7WzCL9fK",
        "outputId": "59b29919-0c03-4f68-e7c8-2809e659519a"
      },
      "outputs": [
        {
          "name": "stdout",
          "output_type": "stream",
          "text": [
            "False\n",
            "True\n",
            "False\n",
            "True\n"
          ]
        }
      ],
      "source": [
        "print(t and f) # Logical AND;\n",
        "print(t or f)  # Logical OR;\n",
        "print(not t)   # Logical NOT;\n",
        "print(t != f)  # Logical XOR;"
      ]
    },
    {
      "cell_type": "markdown",
      "metadata": {
        "id": "UQnQWFEyL9fP"
      },
      "source": [
        "#### Strings\n",
        "파이썬은 문자열을 표현하고 처리하는 다양한 기능을 지원한다:"
      ]
    },
    {
      "cell_type": "code",
      "execution_count": null,
      "metadata": {
        "colab": {
          "base_uri": "https://localhost:8080/"
        },
        "id": "AijEDtPFL9fP",
        "outputId": "b9a42fa9-95f1-43a7-c5b6-7fc72ff44b60"
      },
      "outputs": [
        {
          "output_type": "stream",
          "name": "stdout",
          "text": [
            "it's\n",
            "hello 5\n"
          ]
        }
      ],
      "source": [
        "word = \"it's\" \n",
        "print(word)\n",
        "hello = 'hello'   # String literals can use single quotes\n",
        "world = \"world\"   # or double quotes; it does not matter\n",
        "print(hello, len(hello))"
      ]
    },
    {
      "cell_type": "code",
      "execution_count": null,
      "metadata": {
        "colab": {
          "base_uri": "https://localhost:8080/"
        },
        "id": "saDeaA7hL9fT",
        "outputId": "d2c72c87-3862-4f41-e322-9a6f1783900e"
      },
      "outputs": [
        {
          "output_type": "stream",
          "name": "stdout",
          "text": [
            "hello world\n"
          ]
        }
      ],
      "source": [
        "hw = hello + ' ' + world  # String concatenation\n",
        "print(hw)"
      ]
    },
    {
      "cell_type": "code",
      "execution_count": null,
      "metadata": {
        "colab": {
          "base_uri": "https://localhost:8080/"
        },
        "id": "Nji1_UjYL9fY",
        "outputId": "5606edb2-91e4-4c62-ce3d-56456c2fdb99"
      },
      "outputs": [
        {
          "output_type": "stream",
          "name": "stdout",
          "text": [
            "John is a 12 years old boy.\n"
          ]
        }
      ],
      "source": [
        "age = 12\n",
        "str = '{} is a {} years old boy.'.format('John', age) # printf(\"The answer is %d.\", a)\n",
        "print(str)"
      ]
    },
    {
      "cell_type": "markdown",
      "metadata": {
        "id": "bUpl35bIL9fc"
      },
      "source": [
        "문자열 객체에는 유용한 메소드들이 많다; 예를 들어:"
      ]
    },
    {
      "cell_type": "code",
      "execution_count": null,
      "metadata": {
        "colab": {
          "base_uri": "https://localhost:8080/"
        },
        "id": "VOxGatlsL9fd",
        "outputId": "b96d4f65-e5e4-4b27-a858-88e0cd7fa374"
      },
      "outputs": [
        {
          "output_type": "stream",
          "name": "stdout",
          "text": [
            "Hello\n",
            "HELLO\n",
            "he(ell)(ell)o\n",
            "hello world\n"
          ]
        }
      ],
      "source": [
        "s = \"hello\"\n",
        "print(s.capitalize())  # Capitalize a string\n",
        "print(s.upper())       # Convert a string to uppercase; prints \"HELLO\"\n",
        "print(s.replace('l', '(ell)'))  # Replace all instances of one substring with another\n",
        "print('  hello world '.strip())  # Strip leading and trailing whitespace"
      ]
    },
    {
      "cell_type": "markdown",
      "metadata": {
        "id": "SUKm48sjOLK-"
      },
      "source": [
        "문자열 내에서 substring을 검색하는 다양한 메서드들을 제공한다."
      ]
    },
    {
      "cell_type": "code",
      "execution_count": null,
      "metadata": {
        "id": "65CwsxcQNbU2"
      },
      "outputs": [],
      "source": [
        "print(s)\n",
        "print('ell' in s)\n",
        "print(s.find('el'))\n",
        "print(s.find('elm'))\n",
        "print(s.index('el'))\n",
        "print(s.index('elm'))"
      ]
    },
    {
      "cell_type": "markdown",
      "metadata": {
        "id": "d7kap8uGOfRl"
      },
      "source": [
        "문자열을 분할(tokenizing)하는 다양한 기능을 제공한다."
      ]
    },
    {
      "cell_type": "code",
      "execution_count": null,
      "metadata": {
        "colab": {
          "base_uri": "https://localhost:8080/"
        },
        "id": "SWfe8MlKOlUl",
        "outputId": "a8383be7-c0f9-4499-8301-c1136c59741e"
      },
      "outputs": [
        {
          "output_type": "stream",
          "name": "stdout",
          "text": [
            "['10', '20', '30', '400']\n",
            "['10', '20', '30,400']\n",
            "['', '1', '2', '', '3', '']\n"
          ]
        }
      ],
      "source": [
        "str = '10,20,30,400'\n",
        "print(str.split(','))\n",
        "print(str.split(',', maxsplit=2))\n",
        "print(',1,2,,3,'.split(','))"
      ]
    },
    {
      "cell_type": "markdown",
      "metadata": {
        "id": "06cayXLtL9fi"
      },
      "source": [
        "\n",
        "\n",
        "모든 문자열 메소드는 [문서](https://docs.python.org/3.7/library/stdtypes.html#string-methods)에서 찾아볼 수 있다."
      ]
    },
    {
      "cell_type": "markdown",
      "metadata": {
        "id": "p-6hClFjL9fk"
      },
      "source": [
        "## 컨테이너 (container)"
      ]
    },
    {
      "cell_type": "markdown",
      "metadata": {
        "id": "FD9H18eQL9fk"
      },
      "source": [
        "파이썬은 다음과 같은 컨테이너 타입을 지원한다. \n",
        "- 리스트(list)\n",
        "- 딕셔너리(dictionary)\n",
        "- 집합(set)\n",
        "- 튜플(tuple)"
      ]
    },
    {
      "cell_type": "markdown",
      "metadata": {
        "id": "UsIWOe0LL9fn"
      },
      "source": [
        "## 리스트(List)"
      ]
    },
    {
      "cell_type": "markdown",
      "metadata": {
        "id": "sE7AVfZJXRcj"
      },
      "source": [
        "### 리스트의 생성과 기본 연산들"
      ]
    },
    {
      "cell_type": "markdown",
      "metadata": {
        "id": "wzxX7rgWL9fn"
      },
      "source": [
        "리스트는 파이썬에서 배열 같은 존재이다. 하지만 배열과 달리 **크기 변경이 가능**하고 **서로 다른 자료형**일지라도 하나의 리스트에 저장될 수 있다:"
      ]
    },
    {
      "cell_type": "code",
      "execution_count": null,
      "metadata": {
        "colab": {
          "base_uri": "https://localhost:8080/"
        },
        "id": "hk3A8pPcL9fp",
        "outputId": "d6952ddb-a670-41b9-a6bf-7be7b2ab1e36"
      },
      "outputs": [
        {
          "output_type": "stream",
          "name": "stdout",
          "text": [
            "0\n",
            "3\n",
            "3\n",
            "1\n",
            "2\n",
            "2\n",
            "1\n",
            "3\n"
          ]
        }
      ],
      "source": [
        "empty = []        # Create an empty list\n",
        "print(len(empty)) # the length of a list\n",
        "xs = [3, 1, 2]    # Create a list of length 3\n",
        "print(len(xs))\n",
        "\n",
        "print(xs[0])  # indexing\n",
        "print(xs[1])\n",
        "print(xs[2])\n",
        "\n",
        "xs[0] = 5\n",
        "\n",
        "print(xs[-1])     # Negative indices count from the end of the list; prints \"2\"\n",
        "print(xs[-2])\n",
        "print(xs[-3])"
      ]
    },
    {
      "cell_type": "markdown",
      "metadata": {
        "id": "eCuJqtdaUvsG"
      },
      "source": [
        "리스트에 저장된 값을 변경하거나, 리스트에 새로운 원소를 추가(`append`, `insert`)하고 삭제(`pop`, `remove`)하는 여러 방법들을 제공한다."
      ]
    },
    {
      "cell_type": "code",
      "execution_count": null,
      "metadata": {
        "colab": {
          "base_uri": "https://localhost:8080/"
        },
        "id": "YCjCy_0_L9ft",
        "outputId": "e8a757ec-161e-4f49-91b4-900a5c939ef3"
      },
      "outputs": [
        {
          "output_type": "stream",
          "name": "stdout",
          "text": [
            "[3, 1, ['foo', 'boo']]\n"
          ]
        }
      ],
      "source": [
        "xs[2] = ['foo', 'boo']    # Lists can contain elements of different types\n",
        "print(xs)"
      ]
    },
    {
      "cell_type": "code",
      "execution_count": null,
      "metadata": {
        "colab": {
          "base_uri": "https://localhost:8080/"
        },
        "id": "vJ0x5cF-L9fx",
        "outputId": "8a6c0250-fb7a-4a12-88a1-821e2a0072a4"
      },
      "outputs": [
        {
          "output_type": "stream",
          "name": "stdout",
          "text": [
            "[3, 1, ['foo', 'boo'], 'bar']\n"
          ]
        }
      ],
      "source": [
        "xs.append('bar') # Add a new element to the end of the list\n",
        "print(xs)  "
      ]
    },
    {
      "cell_type": "code",
      "execution_count": null,
      "metadata": {
        "colab": {
          "base_uri": "https://localhost:8080/"
        },
        "id": "2vpEbQ2STYCr",
        "outputId": "c93443ae-5b64-4ff7-fe97-385fca20a7b1"
      },
      "outputs": [
        {
          "output_type": "stream",
          "name": "stdout",
          "text": [
            "[3, 'orange', 1, ['foo', 'boo'], 'bar']\n"
          ]
        }
      ],
      "source": [
        "xs.insert(1, 'orange')      # 특정 위치에 원소 삽입하기\n",
        "print(xs)"
      ]
    },
    {
      "cell_type": "code",
      "execution_count": null,
      "metadata": {
        "colab": {
          "base_uri": "https://localhost:8080/"
        },
        "id": "cxVCNRTNL9f1",
        "outputId": "5ac9eb63-1e2c-4341-ef16-1050c7dbd9a6"
      },
      "outputs": [
        {
          "output_type": "stream",
          "name": "stdout",
          "text": [
            "0.5 [3, 'orange', 1, 'foo', 'bar', 10]\n",
            "[3, 'orange', 1, 'bar', 10]\n",
            "[3, 'orange', 1, 'bar']\n",
            "[3, 'orange', 'bar']\n",
            "[3, 'orange']\n"
          ]
        }
      ],
      "source": [
        "xs = [3, 'orange', 1, 'foo', 'bar', 10, 0.5]\n",
        "x = xs.pop()      # Remove and return the last element of the list\n",
        "print(x, xs)\n",
        "\n",
        "x = xs.pop(3)    \n",
        "print(xs)\n",
        "\n",
        "del xs[4]\n",
        "print(xs)\n",
        "\n",
        "xs.remove(1)\n",
        "print(xs)\n",
        "xs.remove('bar')\n",
        "print(xs)"
      ]
    },
    {
      "cell_type": "markdown",
      "metadata": {
        "id": "1qg0jXlNVkKE"
      },
      "source": [
        "리스트를 복사하여 새로운 리스트를 만들 수 있다."
      ]
    },
    {
      "cell_type": "code",
      "execution_count": null,
      "metadata": {
        "colab": {
          "base_uri": "https://localhost:8080/"
        },
        "id": "O206rvWZVrR9",
        "outputId": "f65a40b0-8c19-4158-a230-54f5b7389f44"
      },
      "outputs": [
        {
          "output_type": "stream",
          "name": "stdout",
          "text": [
            "['orange', 'banana', 'cherry']\n",
            "['orange', 'banana', 'cherry']\n",
            "['melon', 'banana', 'cherry']\n",
            "['apple', 'banana', 'cherry']\n",
            "['strawberry', 'banana', 'cherry']\n"
          ]
        }
      ],
      "source": [
        "thelist = [\"apple\", \"banana\", \"cherry\"]\n",
        "newlist = thelist\n",
        "\n",
        "thelist[0] = 'orange'\n",
        "print(newlist)\n",
        "\n",
        "copiedlist = thelist.copy()\n",
        "copiedlist[0] = 'melon'\n",
        "print(thelist)\n",
        "print(copiedlist)\n",
        "\n",
        "thislist = [\"apple\", \"banana\", \"cherry\"]\n",
        "mylist = list(thislist)\n",
        "mylist[0] = 'strawberry'\n",
        "print(thislist)\n",
        "print(mylist)"
      ]
    },
    {
      "cell_type": "markdown",
      "metadata": {
        "id": "bOB0R2DCV_g3"
      },
      "source": [
        "두개 이상의 리스트를 하나의 리스트로 합칠 수 있다."
      ]
    },
    {
      "cell_type": "code",
      "execution_count": null,
      "metadata": {
        "colab": {
          "base_uri": "https://localhost:8080/"
        },
        "id": "x2L7g0O_WErN",
        "outputId": "6571dac8-4f74-4489-af35-2459bf4fa467"
      },
      "outputs": [
        {
          "output_type": "stream",
          "name": "stdout",
          "text": [
            "['a', 'b', 'c', 1, 2, 3]\n"
          ]
        }
      ],
      "source": [
        "list1 = [\"a\", \"b\" , \"c\"]\n",
        "list2 = [1, 2, 3]\n",
        "list3 = list1 + list2\n",
        "print(list3)"
      ]
    },
    {
      "cell_type": "code",
      "execution_count": null,
      "metadata": {
        "colab": {
          "base_uri": "https://localhost:8080/"
        },
        "id": "i0fHubkSWZqc",
        "outputId": "7bea3ccf-d9cf-4c45-8a4e-cdf94739abf6"
      },
      "outputs": [
        {
          "output_type": "stream",
          "name": "stdout",
          "text": [
            "['a', 'b', 'c', 1, 2, 3]\n"
          ]
        }
      ],
      "source": [
        "list1 = [\"a\", \"b\", \"c\"]\n",
        "list2 = [1, 2, 3]\n",
        "list1 += list2\n",
        "print(list1)"
      ]
    },
    {
      "cell_type": "code",
      "execution_count": null,
      "metadata": {
        "colab": {
          "base_uri": "https://localhost:8080/"
        },
        "id": "yqjS9PbFWhtm",
        "outputId": "985e160b-e33a-4545-b2d3-52149f22e781"
      },
      "outputs": [
        {
          "output_type": "stream",
          "name": "stdout",
          "text": [
            "['a', 'b', 'c', 1, 2, 3]\n"
          ]
        }
      ],
      "source": [
        "list1 = [\"a\", \"b\" , \"c\"]\n",
        "list2 = [1, 2, 3]\n",
        "\n",
        "list1.extend(list2)\n",
        "print(list1)"
      ]
    },
    {
      "cell_type": "markdown",
      "metadata": {
        "id": "X-AN0XpIQ2fZ"
      },
      "source": [
        "리스트의 리스트는 2차원 배열과 같은 역할을 한다."
      ]
    },
    {
      "cell_type": "code",
      "execution_count": null,
      "metadata": {
        "colab": {
          "base_uri": "https://localhost:8080/"
        },
        "id": "cldy7juNREE4",
        "outputId": "fe0a2e34-6f17-4b4f-8323-2cb9fdd4e0d7"
      },
      "outputs": [
        {
          "output_type": "stream",
          "name": "stdout",
          "text": [
            "4\n",
            "[[1, 2, 3], [4, 5, 6], [7, 8, 9], [10, 11, 12]]\n",
            "[4, 5, 6]\n",
            "9\n",
            "[1, 2, 3]\n",
            "[4, 5, 6]\n",
            "[7, 8, 9]\n",
            "[10, 11, 12]\n",
            "1\n",
            "2\n",
            "3\n",
            "4\n",
            "5\n",
            "6\n",
            "7\n",
            "8\n",
            "9\n",
            "10\n",
            "11\n",
            "12\n"
          ]
        }
      ],
      "source": [
        "ys = [[1, 2, 3], [4, 5, 6], [7, 8, 9], [10, 11, 12]]  # 4*3 크기의 이차원 배열처럼 사용한다.\n",
        "print(len(ys))\n",
        "print(ys)\n",
        "print(ys[1])\n",
        "print(ys[2][2])\n",
        "# print(ys[1, 2])       # Error\n",
        "\n",
        "for r in ys:\n",
        "  print(r)\n",
        "\n",
        "for r in ys:\n",
        "  for v in r:\n",
        "    print(v)"
      ]
    },
    {
      "cell_type": "markdown",
      "metadata": {
        "id": "ilyoyO34L9f4"
      },
      "source": [
        "좀 더 자세한 사항은 [문서](https://docs.python.org/3.7/tutorial/datastructures.html#more-on-lists)를 참조하라."
      ]
    },
    {
      "cell_type": "markdown",
      "metadata": {
        "id": "ovahhxd_L9f5"
      },
      "source": [
        "### 리스트 슬라이싱(slicing)\n",
        "\n"
      ]
    },
    {
      "cell_type": "markdown",
      "metadata": {
        "id": "fYh_8Y2DXhQy"
      },
      "source": [
        "리스트의 한 원소에 접근하는 것 이외에도, 파이썬은 리스트를 잘라낸 일부분에 접근하는 간결한 문법을 제공한다. 이를 **슬라이싱**이라고 한다. \n",
        "\n",
        "슬라이싱의 기본 형태는 `x[start:end:step]`이다. `start는 슬라이싱을 시작할 위치, `end는 끝낼(exclusive) 위치, 그리고 `step`은 몇개씩 건너뛸지를 지정한다. `step`은 생략될 수 있고, 그 경우 `step=1`로 간주된다."
      ]
    },
    {
      "cell_type": "code",
      "execution_count": null,
      "metadata": {
        "colab": {
          "base_uri": "https://localhost:8080/"
        },
        "id": "ninq666bL9f6",
        "outputId": "7d9d85ef-2f8a-43e2-fa3c-a45200b883a7"
      },
      "outputs": [
        {
          "output_type": "stream",
          "name": "stdout",
          "text": [
            "[0, 1, 2, 3, 4]\n",
            "[2, 3]\n",
            "[2, 3, 4]\n",
            "[0, 1]\n",
            "[0, 1, 2, 3, 4]\n",
            "[0, 1, 2]\n",
            "[1, 3]\n",
            "[0, 1, 8, 9, 4]\n",
            "[0, 8, 4]\n",
            "[4, 9, 8, 1, 0]\n"
          ]
        }
      ],
      "source": [
        "# nums = [0, 1, 2, 3, 4]\n",
        "nums = list(range(5))    # range is a built-in function that creates a list of integers\n",
        "print(nums)         # Prints \"[0, 1, 2, 3, 4]\"\n",
        "print(nums[2:4])    # Get a slice from index 2 to 4 (exclusive); prints \"[2, 3]\"\n",
        "print(nums[2:])     # Get a slice from index 2 to the end; prints \"[2, 3, 4]\"\n",
        "print(nums[:2])     # Get a slice from the start to index 2 (exclusive); prints \"[0, 1]\"\n",
        "print(nums[:])      # Get a slice of the whole list; prints [\"0, 1, 2, 3, 4]\"\n",
        "print(nums[:-2])    # Slice indices can be negative; prints [\"0, 1, 2]\"\n",
        "\n",
        "print(nums[1::2])\n",
        "\n",
        "nums[2:4] = [8, 9] # Assign a new sublist to a slice\n",
        "print(nums)         # Prints \"[0, 1, 8, 9, 4]\"\n",
        "\n",
        "print(nums[::2])\n",
        "\n",
        "print(nums[-1::-1])"
      ]
    },
    {
      "cell_type": "markdown",
      "metadata": {
        "id": "KBtp7zUjsHyW"
      },
      "source": [
        "리스트를 치환하면 새로운 리스트가 생성되지 않지만, 리스트를 슬라이싱하면 새로운 리스트가 생성된다."
      ]
    },
    {
      "cell_type": "code",
      "execution_count": null,
      "metadata": {
        "colab": {
          "base_uri": "https://localhost:8080/"
        },
        "id": "cJi8wqdgsNBP",
        "outputId": "8159867e-f35b-4dfb-89ed-d0f9f79bdfa0"
      },
      "outputs": [
        {
          "name": "stdout",
          "output_type": "stream",
          "text": [
            "[0, 2, 3, 4]\n",
            "[0, 2, 3, 4]\n",
            "[1, 0, 3, 4]\n"
          ]
        }
      ],
      "source": [
        "a = [1, 2, 3, 4]\n",
        "b = a             # a와 b는 동일한 리스트 객체를 참조한다.\n",
        "c = a[:]          # c는 a의 복사본을 참조한다. 즉, a와 c는 별개의 리스트 객체이다.\n",
        "b[0] = 0\n",
        "c[1] = 0\n",
        "print(a)\n",
        "print(b)\n",
        "print(c)"
      ]
    },
    {
      "cell_type": "markdown",
      "metadata": {
        "id": "UONpMhF4L9f_"
      },
      "source": [
        "### 원소의 존재 검사와 반복문\n",
        "\n",
        "아래와 같이 리스트에 특정 원소가 존재하는지 검사할 수 있고, 또한 반복문에서 리스트의 요소들을 반복해서 조회할 수 있다."
      ]
    },
    {
      "cell_type": "code",
      "execution_count": null,
      "metadata": {
        "colab": {
          "base_uri": "https://localhost:8080/"
        },
        "id": "4cCOysfWL9gA",
        "outputId": "699cfcc4-e84f-4f98-b4fb-57f48fc2aff3"
      },
      "outputs": [
        {
          "output_type": "stream",
          "name": "stdout",
          "text": [
            "Yes, 'dog' is in the list.\n",
            "cat\n",
            "dog\n",
            "monkey\n"
          ]
        }
      ],
      "source": [
        "animals = ['cat', 'dog', 'monkey']\n",
        "if 'dog' in animals:\n",
        "  print(\"Yes, 'dog' is in the list.\")\n",
        "\n",
        "for animal in animals: \n",
        "    print(animal)"
      ]
    },
    {
      "cell_type": "markdown",
      "metadata": {
        "id": "KxIaQs7pL9gE"
      },
      "source": [
        "만약 반복문 내에서 리스트 각 요소의 인덱스에 접근하고 싶다면, `enumerate` 함수를 사용하라:"
      ]
    },
    {
      "cell_type": "code",
      "execution_count": null,
      "metadata": {
        "colab": {
          "base_uri": "https://localhost:8080/"
        },
        "id": "JjGnDluWL9gF",
        "outputId": "a8d06303-418d-47c9-f272-9b5a259504b8"
      },
      "outputs": [
        {
          "output_type": "stream",
          "name": "stdout",
          "text": [
            "#1: cat\n",
            "#2: dog\n",
            "#3: monkey\n"
          ]
        }
      ],
      "source": [
        "animals = ['cat', 'dog', 'monkey']\n",
        "for idx, animal in enumerate(animals):\n",
        "    print('#{}: {}'.format(idx + 1, animal))"
      ]
    },
    {
      "cell_type": "markdown",
      "metadata": {
        "id": "64zWKPnsQjrv"
      },
      "source": [
        "\n",
        "### 리스트의 정렬\n",
        "\n"
      ]
    },
    {
      "cell_type": "code",
      "execution_count": null,
      "metadata": {
        "colab": {
          "base_uri": "https://localhost:8080/"
        },
        "id": "IFGZSMoGQqqf",
        "outputId": "ce7e6116-bdcc-4681-db1c-fd676a4148aa"
      },
      "outputs": [
        {
          "name": "stdout",
          "output_type": "stream",
          "text": [
            "['Ford', 'BMW', 'Volvo']\n",
            "['BMW', 'Ford', 'Volvo']\n",
            "['Volvo', 'Ford', 'BMW']\n"
          ]
        }
      ],
      "source": [
        "cars = ['Ford', 'BMW', 'Volvo']\n",
        "print(cars)\n",
        "cars.sort() # in-place sort\n",
        "print(cars)\n",
        "cars.sort(reverse=True)\n",
        "print(cars)"
      ]
    },
    {
      "cell_type": "code",
      "execution_count": null,
      "metadata": {
        "colab": {
          "base_uri": "https://localhost:8080/"
        },
        "id": "-Kp7JSJ3RULr",
        "outputId": "6425b595-ab6f-47f1-d369-032e169eb3ea"
      },
      "outputs": [
        {
          "output_type": "stream",
          "name": "stdout",
          "text": [
            "['VW', 'BMW', 'Ford', 'Mitsubishi']\n"
          ]
        }
      ],
      "source": [
        "# A function that returns the length of the value:\n",
        "def myFunc(e):\n",
        "  return len(e)\n",
        "\n",
        "cars = ['Ford', 'Mitsubishi', 'BMW', 'VW']\n",
        "\n",
        "cars.sort(key=myFunc)     \n",
        "# cars.sort(key=lambda k: len(k))\n",
        "print(cars)"
      ]
    },
    {
      "cell_type": "code",
      "execution_count": null,
      "metadata": {
        "colab": {
          "base_uri": "https://localhost:8080/"
        },
        "id": "k8DWYQabRgyL",
        "outputId": "f7e7c92b-881b-4048-8eb7-7cc5690d5ac0"
      },
      "outputs": [
        {
          "name": "stdout",
          "output_type": "stream",
          "text": [
            "['BMW', 'Ford', 'Mitsubishi', 'VW']\n",
            "['Ford', 'Mitsubishi', 'BMW', 'VW']\n"
          ]
        }
      ],
      "source": [
        "cars = ['Ford', 'Mitsubishi', 'BMW', 'VW']\n",
        "result = sorted(cars)\n",
        "print(result)\n",
        "print(cars)"
      ]
    },
    {
      "cell_type": "markdown",
      "metadata": {
        "id": "LNQZNsfEaOJc"
      },
      "source": [
        "물론 Python은 custom comparator를 이용하는 보다 generic한 정렬 기능을 제공한다. 그 내용은 생략한다."
      ]
    },
    {
      "cell_type": "markdown",
      "metadata": {
        "id": "FomUn2uDtYdy"
      },
      "source": [
        "### 예제 1\n",
        "\n",
        "Python으로 직접 정수 리스트를 정렬하는 Quicksort 알고리즘을 구현해보자."
      ]
    },
    {
      "cell_type": "code",
      "execution_count": null,
      "metadata": {
        "colab": {
          "base_uri": "https://localhost:8080/"
        },
        "id": "JycYFrqVtj7y",
        "outputId": "a7480544-356e-4936-c029-0925d71135fe"
      },
      "outputs": [
        {
          "name": "stdout",
          "output_type": "stream",
          "text": [
            "[1, 1, 2, 3, 6, 8, 10]\n"
          ]
        }
      ],
      "source": [
        "def partition(arr):\n",
        "    x = arr[len(arr)-1]             # pivot element\n",
        "    i = -1                          # position of the last element that is less than or equal to pivot\n",
        "    for j in range(len(arr)-1):     # iterate over elements except pivot\n",
        "        if arr[j] <= x:\n",
        "            i += 1\n",
        "            arr[i], arr[j] = arr[j], arr[i]     # swap\n",
        "    arr[i+1], arr[len(arr)-1] = arr[len(arr)-1], arr[i+1]     \n",
        "    return i+1\n",
        "\n",
        "def quicksort(arr):\n",
        "    if len(arr) <= 1:\n",
        "        return arr\n",
        "\n",
        "    q = partition(arr)\n",
        "    left = arr[:q]\n",
        "    right = arr[q+1:]\n",
        "\n",
        "    return quicksort(left) + [arr[q]] + quicksort(right)\n",
        "\n",
        "data = [ 3, 6, 8, 10, 1, 2, 1 ]\n",
        "print(quicksort(data))"
      ]
    },
    {
      "cell_type": "markdown",
      "metadata": {
        "id": "fWcrMtnGXVX5"
      },
      "source": [
        "<font color=”blue”> **연습문제 1** \n",
        "1. 정수 리스트를 정렬하는 삽입정렬(insertion sort) 알고리즘을 Python으로 구현하라.\n",
        "2. 정수 리스트를 정렬하는 합병정렬(merge sort) 알고리즘을 Python으로 구현하라.\n",
        "</font> "
      ]
    },
    {
      "cell_type": "markdown",
      "metadata": {
        "id": "arrLCcMyL9gK"
      },
      "source": [
        "### List Comprehension"
      ]
    },
    {
      "cell_type": "markdown",
      "metadata": {
        "id": "5Qn2jU_pL9gL"
      },
      "source": [
        "예를 들자면 하나의 리스트에 저장된 모든 숫자의 제곱으로 구성되는 다른 리스트를 구성하는 다음의 코드를 보라:"
      ]
    },
    {
      "cell_type": "code",
      "execution_count": null,
      "metadata": {
        "id": "IVNEwoMXL9gL",
        "outputId": "53bb028a-1a8d-4ca8-9995-c24ee52479e4",
        "colab": {
          "base_uri": "https://localhost:8080/"
        }
      },
      "outputs": [
        {
          "output_type": "stream",
          "name": "stdout",
          "text": [
            "[0, 1, 4, 9, 16]\n"
          ]
        }
      ],
      "source": [
        "nums = [0, 1, 2, 3, 4]\n",
        "squares = []\n",
        "for x in nums:\n",
        "    squares.append(x ** 2)\n",
        "print(squares)"
      ]
    },
    {
      "cell_type": "markdown",
      "metadata": {
        "id": "7DmKVUFaL9gQ"
      },
      "source": [
        "리스트 comprehension을 이용해 이 코드를 간단하게 만들 수 있다:\n",
        "\n"
      ]
    },
    {
      "cell_type": "code",
      "execution_count": null,
      "metadata": {
        "id": "kZxsUfV6L9gR",
        "outputId": "8534d8a4-3671-4b91-84fd-1fc567e3caf9",
        "colab": {
          "base_uri": "https://localhost:8080/"
        }
      },
      "outputs": [
        {
          "output_type": "stream",
          "name": "stdout",
          "text": [
            "[0, 1, 4, 9, 16]\n"
          ]
        }
      ],
      "source": [
        "# nums = [0, 1, 2, 3, 4]\n",
        "squares = [x**2 for x in range(5)]\n",
        "print(squares)"
      ]
    },
    {
      "cell_type": "markdown",
      "metadata": {
        "id": "-D8ARK7tL9gV"
      },
      "source": [
        "또한 리스트 comprehensions에 조건을 추가할 수도 있다:"
      ]
    },
    {
      "cell_type": "code",
      "execution_count": null,
      "metadata": {
        "id": "yUtgOyyYL9gV",
        "outputId": "dd507b4e-8069-4ed2-c7b8-c2184a23cb2a",
        "colab": {
          "base_uri": "https://localhost:8080/"
        }
      },
      "outputs": [
        {
          "output_type": "stream",
          "name": "stdout",
          "text": [
            "[0, 4, 16, 36, 64]\n"
          ]
        }
      ],
      "source": [
        "# nums = [0, 1, 2, 3, 4, 5, 6]\n",
        "even_squares = [x ** 2 for x in range(10) if x % 2 == 0]\n",
        "print(even_squares)"
      ]
    },
    {
      "cell_type": "code",
      "execution_count": null,
      "metadata": {
        "id": "9v2AFUR8N-VO",
        "outputId": "690623d4-ee1e-458e-de88-048828520d1e",
        "colab": {
          "base_uri": "https://localhost:8080/"
        }
      },
      "outputs": [
        {
          "output_type": "stream",
          "name": "stdout",
          "text": [
            "['hello', 'they', 'are', 'really']\n",
            "['Hello', 'Python', 'Numpy', 'Really']\n"
          ]
        }
      ],
      "source": [
        "words = ['hello', 'python', 'and', 'numpy', 'they', 'are', 'really', 'fun']\n",
        "selected = [str for str in words if 'e' in str]\n",
        "print(selected)\n",
        "\n",
        "longstrs = [str.capitalize() for str in words if len(str) > 4]\n",
        "print(longstrs)"
      ]
    },
    {
      "cell_type": "markdown",
      "metadata": {
        "id": "HsT7kjkeuYOl"
      },
      "source": [
        "### Quicksort Revisited"
      ]
    },
    {
      "cell_type": "code",
      "execution_count": null,
      "metadata": {
        "id": "O-oV7sXmufgQ",
        "outputId": "d3a5d754-d91d-49d2-f4dd-97097bde8524"
      },
      "outputs": [
        {
          "name": "stdout",
          "output_type": "stream",
          "text": [
            "[1, 1, 2, 3, 6, 8, 10]\n"
          ]
        }
      ],
      "source": [
        "def quicksort(arr):\n",
        "    if len(arr) <= 1:\n",
        "        return arr\n",
        "    pivot = arr[len(arr) // 2]\n",
        "    left = [x for x in arr if x < pivot]\n",
        "    middle = [x for x in arr if x == pivot]\n",
        "    right = [x for x in arr if x > pivot]\n",
        "    return quicksort(left) + middle + quicksort(right)\n",
        "\n",
        "print(quicksort([3,6,8,10,1,2,1]))"
      ]
    },
    {
      "cell_type": "markdown",
      "metadata": {
        "id": "YLtq61oqP3mR"
      },
      "source": [
        "### <font color=”blue”> **예제 2**  \n",
        " </font>\n",
        "\n"
      ]
    },
    {
      "cell_type": "markdown",
      "metadata": {
        "id": "tD7N884Jw4db"
      },
      "source": [
        "Stackoverflow에서는 매년 개발자들을 대상으로 설문조사를 한다. 조사 결과는 [여기](https://insights.stackoverflow.com/survey)에서 다운로드 받을 수 있다. \n",
        "\n",
        "2021년 설문 결과를 요약한 `survey_results_public.csv` 파일을 읽어 온다. Python은 `csv` 파일을 쉽게 읽고 처리하기 위한 다양한 방법을 제공하지만 일단 여기에서는 단순한 텍스트 파일로 다루어보자."
      ]
    },
    {
      "cell_type": "code",
      "execution_count": null,
      "metadata": {
        "colab": {
          "base_uri": "https://localhost:8080/"
        },
        "id": "2W3GO9amma_v",
        "outputId": "e19356c5-6eca-45ae-aee4-4887ad366d65",
        "tags": []
      },
      "outputs": [
        {
          "output_type": "stream",
          "name": "stdout",
          "text": [
            "Mounted at /content/drive\n"
          ]
        }
      ],
      "source": [
        "# 이 노트북을 Google colab에서 실행할 경우에는 데이터 파일을 google drive에 저장한 후 google drive를 mount해 주어야 한다. \n",
        "# 이 일은 로컬 머신에서 실행할 때는 불필요하다.\n",
        "\n",
        "from google.colab import drive\n",
        "drive.mount('/content/drive')"
      ]
    },
    {
      "cell_type": "code",
      "execution_count": null,
      "metadata": {
        "id": "dSkGN0OOFJLH"
      },
      "outputs": [],
      "source": [
        "file_path = '/content/drive/MyDrive/DataScience2022/chap01/data/survey_results_public.csv'  # for colab\n",
        "# file_path = 'data/survey_results_public.csv'     # for local machine"
      ]
    },
    {
      "cell_type": "code",
      "execution_count": null,
      "metadata": {
        "id": "TYkEdH77np_K"
      },
      "outputs": [],
      "source": [
        "f = open(file_path, 'r', encoding='utf-8')   # 파일을 open한다."
      ]
    },
    {
      "cell_type": "code",
      "execution_count": null,
      "metadata": {
        "colab": {
          "base_uri": "https://localhost:8080/"
        },
        "id": "E_F-R9wtmuWS",
        "outputId": "1b910b2f-baad-4631-b658-9da63ef86928",
        "tags": []
      },
      "outputs": [
        {
          "output_type": "stream",
          "name": "stdout",
          "text": [
            "ResponseId,MainBranch,Employment,Country,US_State,UK_Country,EdLevel,Age1stCode,LearnCode,YearsCode,YearsCodePro,DevType,OrgSize,Currency,CompTotal,CompFreq,LanguageHaveWorkedWith,LanguageWantToWorkWith,DatabaseHaveWorkedWith,DatabaseWantToWorkWith,PlatformHaveWorkedWith,PlatformWantToWorkWith,WebframeHaveWorkedWith,WebframeWantToWorkWith,MiscTechHaveWorkedWith,MiscTechWantToWorkWith,ToolsTechHaveWorkedWith,ToolsTechWantToWorkWith,NEWCollabToolsHaveWorkedWith,NEWCollabToolsWantToWorkWith,OpSys,NEWStuck,NEWSOSites,SOVisitFreq,SOAccount,SOPartFreq,SOComm,NEWOtherComms,Age,Gender,Trans,Sexuality,Ethnicity,Accessibility,MentalHealth,SurveyLength,SurveyEase,ConvertedCompYearly\n",
            "\n",
            "['ResponseId', 'MainBranch', 'Employment', 'Country', 'US_State', 'UK_Country', 'EdLevel', 'Age1stCode', 'LearnCode', 'YearsCode', 'YearsCodePro', 'DevType', 'OrgSize', 'Currency', 'CompTotal', 'CompFreq', 'LanguageHaveWorkedWith', 'LanguageWantToWorkWith', 'DatabaseHaveWorkedWith', 'DatabaseWantToWorkWith', 'PlatformHaveWorkedWith', 'PlatformWantToWorkWith', 'WebframeHaveWorkedWith', 'WebframeWantToWorkWith', 'MiscTechHaveWorkedWith', 'MiscTechWantToWorkWith', 'ToolsTechHaveWorkedWith', 'ToolsTechWantToWorkWith', 'NEWCollabToolsHaveWorkedWith', 'NEWCollabToolsWantToWorkWith', 'OpSys', 'NEWStuck', 'NEWSOSites', 'SOVisitFreq', 'SOAccount', 'SOPartFreq', 'SOComm', 'NEWOtherComms', 'Age', 'Gender', 'Trans', 'Sexuality', 'Ethnicity', 'Accessibility', 'MentalHealth', 'SurveyLength', 'SurveyEase', 'ConvertedCompYearly\\n']\n"
          ]
        }
      ],
      "source": [
        "headline = f.readline()           # 파일의 첫 라인을 읽는다. 첫 라인은 테이블의 head이다.\n",
        "print(headline)\n",
        "columns = headline.split(',')\n",
        "print(columns)                   "
      ]
    },
    {
      "cell_type": "code",
      "execution_count": null,
      "metadata": {
        "colab": {
          "base_uri": "https://localhost:8080/"
        },
        "id": "u403SBmFz4Zx",
        "outputId": "5848ca74-e4cd-4b45-f78b-a8a835b5f32c"
      },
      "outputs": [
        {
          "output_type": "stream",
          "name": "stdout",
          "text": [
            "83439\n",
            "['1', 'I am a developer by profession', '\"Independent contractor', ' freelancer', ' or self-employed\"', 'Slovakia', 'NA', 'NA', '\"Secondary school (e.g. American high school', ' German Realschule or Gymnasium', ' etc.)\"', '18 - 24 years', '\"Coding Bootcamp;Other online resources (ex: videos', ' blogs', ' etc)\"', 'NA', 'NA', '\"Developer', ' mobile\"', '20 to 99 employees', 'EUR European Euro', '4800', 'Monthly', 'C++;HTML/CSS;JavaScript;Objective-C;PHP;Swift', 'Swift', 'PostgreSQL;SQLite', 'SQLite', 'NA', 'NA', 'Laravel;Symfony', 'NA', 'NA', 'NA', 'NA', 'NA', 'PHPStorm;Xcode', 'Atom;Xcode', 'MacOS', 'Call a coworker or friend;Visit Stack Overflow;Go for a walk or other physical activity;Google it', 'Stack Overflow', 'Multiple times per day', 'Yes', 'A few times per month or weekly', '\"Yes', ' definitely\"', 'No', '25-34 years old', 'Man', 'No', 'Straight / Heterosexual', 'White or of European descent', 'None of the above', 'None of the above', 'Appropriate in length', 'Easy', '62268\\n']\n"
          ]
        }
      ],
      "source": [
        "data = f.readlines()          # 파일의 나머지 모든 라인을 읽어온다. 라인들의 리스트로 저장된다.\n",
        "f.close()\n",
        "\n",
        "print(len(data))              \n",
        "print(data[0].split(',')) "
      ]
    },
    {
      "cell_type": "markdown",
      "metadata": {
        "id": "dJOE-4_oWufu"
      },
      "source": [
        "위에서 마지막 라인의 결과를 보면 테이블의 하나의 셀에 콤마(,)가 포함된 문장이 포함되는 경우가 있어서 이렇게 split 메서드를 이용하여 csv 파일을 파싱할 수는 없다는 것을 알수 있다.\n",
        "\n",
        "Python은 csv 파일을 처리하기 위해서 `csv` 패키지를 제공한다."
      ]
    },
    {
      "cell_type": "code",
      "execution_count": null,
      "metadata": {
        "colab": {
          "base_uri": "https://localhost:8080/"
        },
        "id": "yGjcxZxr1RCC",
        "outputId": "ef329a98-e974-4212-d248-dc049d17fbc6"
      },
      "outputs": [
        {
          "output_type": "stream",
          "name": "stdout",
          "text": [
            "48\n",
            "['ResponseId', 'MainBranch', 'Employment', 'Country', 'US_State', 'UK_Country', 'EdLevel', 'Age1stCode', 'LearnCode', 'YearsCode', 'YearsCodePro', 'DevType', 'OrgSize', 'Currency', 'CompTotal', 'CompFreq', 'LanguageHaveWorkedWith', 'LanguageWantToWorkWith', 'DatabaseHaveWorkedWith', 'DatabaseWantToWorkWith', 'PlatformHaveWorkedWith', 'PlatformWantToWorkWith', 'WebframeHaveWorkedWith', 'WebframeWantToWorkWith', 'MiscTechHaveWorkedWith', 'MiscTechWantToWorkWith', 'ToolsTechHaveWorkedWith', 'ToolsTechWantToWorkWith', 'NEWCollabToolsHaveWorkedWith', 'NEWCollabToolsWantToWorkWith', 'OpSys', 'NEWStuck', 'NEWSOSites', 'SOVisitFreq', 'SOAccount', 'SOPartFreq', 'SOComm', 'NEWOtherComms', 'Age', 'Gender', 'Trans', 'Sexuality', 'Ethnicity', 'Accessibility', 'MentalHealth', 'SurveyLength', 'SurveyEase', 'ConvertedCompYearly']\n",
            "83439\n"
          ]
        }
      ],
      "source": [
        "import csv\n",
        "\n",
        "with open(file_path, 'r') as f: # with clause\n",
        "  csvreader = csv.reader(f)\n",
        "  header = next(csvreader)\n",
        "  print(len(header))\n",
        "  print(header)\n",
        "\n",
        "  count = 0\n",
        "  for row in csvreader:\n",
        "    count += 1\n",
        "    if len(row) != 48:  \n",
        "      print(len(row))\n",
        "\n",
        "  print(count)\n"
      ]
    },
    {
      "cell_type": "markdown",
      "metadata": {
        "id": "gu5KwcEX14b1"
      },
      "source": [
        "<font color=”blue”> **문제 1**: 국적이 `'South Korea'`인 응답자가 몇 명인지 세어 보자. 테이블의 4번째 컬럼이 국적이다."
      ]
    },
    {
      "cell_type": "code",
      "execution_count": null,
      "metadata": {
        "colab": {
          "base_uri": "https://localhost:8080/"
        },
        "id": "RKGApIBB2tWW",
        "outputId": "b9d4b34a-d004-46e2-abae-ee80d139e2eb"
      },
      "outputs": [
        {
          "output_type": "stream",
          "name": "stdout",
          "text": [
            "189\n"
          ]
        }
      ],
      "source": [
        "with open(file_path, 'r') as f:\n",
        "  csvreader = csv.reader(f)\n",
        "  header = next(csvreader)\n",
        "\n",
        "  count = 0\n",
        "  for row in csvreader:\n",
        "    if row[3] == 'South Korea':\n",
        "      count += 1\n",
        "print(count)"
      ]
    },
    {
      "cell_type": "markdown",
      "metadata": {
        "id": "Fo9tqcja3rB7"
      },
      "source": [
        "<font color=”blue”> **문제 2**: Python을 사용하는 응답자가 몇 명인지 세어보자. 17번째 컬럼(`LanguageHaveWorkedWith`)이 사용하는 언어이고, 응답자는 복수의 언어를 선택할 수 있다. 언어명들은 세미콜론(;)으로 구분되어 있다."
      ]
    },
    {
      "cell_type": "code",
      "execution_count": null,
      "metadata": {
        "colab": {
          "base_uri": "https://localhost:8080/"
        },
        "id": "d37lWTpJY2hJ",
        "outputId": "8dff1568-be85-4b27-f2fd-2a522d3ddbbd"
      },
      "outputs": [
        {
          "output_type": "stream",
          "name": "stdout",
          "text": [
            "39792 of total 83439 responders have worked with Python.\n"
          ]
        }
      ],
      "source": [
        "with open(file_path, 'r') as f:\n",
        "  csvreader = csv.reader(f)\n",
        "  header = next(csvreader)\n",
        "\n",
        "  count_total = 0\n",
        "  count_python = 0\n",
        "  for row in csvreader:\n",
        "    count_total += 1\n",
        "    if 'Python' in row[16] or 'python' in row[16]:\n",
        "      count_python += 1\n",
        "\n",
        "  print('{} of total {} responders have worked with Python.'.format(count_python, count_total))"
      ]
    },
    {
      "cell_type": "markdown",
      "metadata": {
        "id": "H8xsUEFpL9gZ"
      },
      "source": [
        "## 딕셔너리(Dictionary)"
      ]
    },
    {
      "cell_type": "markdown",
      "metadata": {
        "id": "kkjAGMAJL9ga"
      },
      "source": [
        "**자바**의 ‘맵(map)’과 유사하게 파이썬의 ‘딕셔너리’는 `(key, value)` 쌍을 저장한다. "
      ]
    },
    {
      "cell_type": "code",
      "execution_count": null,
      "metadata": {
        "colab": {
          "base_uri": "https://localhost:8080/"
        },
        "id": "XBYI1MrYL9gb",
        "outputId": "334c5fb2-d37d-48b6-9d36-055d3fc9ea95"
      },
      "outputs": [
        {
          "output_type": "stream",
          "name": "stdout",
          "text": [
            "cute\n",
            "True\n"
          ]
        }
      ],
      "source": [
        "d = {'cat': 'cute', 'dog': 'furry'}  # Create a new dictionary with some data\n",
        "print(d['cat'])       # Get an entry from a dictionary; prints \"cute\"\n",
        "print('cat' in d)     # Check if a dictionary has a given key; prints \"True\""
      ]
    },
    {
      "cell_type": "code",
      "execution_count": null,
      "metadata": {
        "colab": {
          "base_uri": "https://localhost:8080/"
        },
        "id": "pS7e-G-HL9gf",
        "outputId": "9cb5809b-9791-4b01-ff97-904797c89526"
      },
      "outputs": [
        {
          "output_type": "stream",
          "name": "stdout",
          "text": [
            "wet\n",
            "{'cat': 'cute', 'dog': 'furry', 'fish': 'wet'}\n"
          ]
        }
      ],
      "source": [
        "d['fish'] = 'wet'    # Set an entry in a dictionary\n",
        "#print(d['cute']) 는 x \n",
        "print(d['fish'])      # Prints \"wet\"\n",
        "print(d)"
      ]
    },
    {
      "cell_type": "markdown",
      "source": [
        ""
      ],
      "metadata": {
        "id": "4YI9fjx5igKE"
      }
    },
    {
      "cell_type": "code",
      "execution_count": null,
      "metadata": {
        "colab": {
          "base_uri": "https://localhost:8080/"
        },
        "id": "tFY065ItL9gi",
        "outputId": "01d322f0-c108-4428-8776-7842d4a92a66"
      },
      "outputs": [
        {
          "name": "stdout",
          "output_type": "stream",
          "text": [
            "None\n"
          ]
        }
      ],
      "source": [
        "# print(d['monkey'])  # KeyError: 'monkey' not a key of d\n",
        "print(d.get('monkey'))"
      ]
    },
    {
      "cell_type": "code",
      "execution_count": null,
      "metadata": {
        "colab": {
          "base_uri": "https://localhost:8080/"
        },
        "id": "8TjbEWqML9gl",
        "outputId": "02626db1-742a-4d7e-918e-257a2f8d9f9f"
      },
      "outputs": [
        {
          "name": "stdout",
          "output_type": "stream",
          "text": [
            "N/A\n",
            "wet\n"
          ]
        }
      ],
      "source": [
        "print(d.get('monkey', 'N/A'))  # Get an element with a default; prints \"N/A\"\n",
        "print(d.get('fish', 'N/A'))    # Get an element with a default; prints \"wet\""
      ]
    },
    {
      "cell_type": "code",
      "execution_count": null,
      "metadata": {
        "colab": {
          "base_uri": "https://localhost:8080/"
        },
        "id": "0EItdNBJL9go",
        "outputId": "533bdd05-c328-47d5-8954-3b321f369eba"
      },
      "outputs": [
        {
          "name": "stdout",
          "output_type": "stream",
          "text": [
            "N/A\n"
          ]
        }
      ],
      "source": [
        "del d['fish']        # Remove an element from a dictionary\n",
        "print(d.get('fish', 'N/A')) # \"fish\" is no longer a key; prints \"N/A\""
      ]
    },
    {
      "cell_type": "markdown",
      "metadata": {
        "id": "IxwEqHlGL9gr"
      },
      "source": [
        "딕셔너리는 key를 이용하여 쉽게 반복(iterate)할 수 있다."
      ]
    },
    {
      "cell_type": "code",
      "execution_count": null,
      "metadata": {
        "colab": {
          "base_uri": "https://localhost:8080/"
        },
        "id": "rYfz7ZKNL9gs",
        "outputId": "64d0eb19-a6ae-4979-fd04-a0d41e09526c"
      },
      "outputs": [
        {
          "name": "stdout",
          "output_type": "stream",
          "text": [
            "A person has 2 legs\n",
            "A cat has 4 legs\n",
            "A spider has 8 legs\n"
          ]
        }
      ],
      "source": [
        "d = {'person': 2, 'cat': 4, 'spider': 8}\n",
        "for animal, legs in d.items():\n",
        "    print('A {} has {} legs'.format(animal, legs))"
      ]
    },
    {
      "cell_type": "markdown",
      "metadata": {
        "id": "17sxiOpzL9gz"
      },
      "source": [
        "리스트 comprehensions과 유사한 딕셔너리 comprehensions을 통해 손쉽게 딕셔너리를 만들 수 있다."
      ]
    },
    {
      "cell_type": "code",
      "execution_count": null,
      "metadata": {
        "colab": {
          "base_uri": "https://localhost:8080/"
        },
        "id": "8PB07imLL9gz",
        "outputId": "c4348e6e-831c-461f-b019-b9b1e2c031c1"
      },
      "outputs": [
        {
          "name": "stdout",
          "output_type": "stream",
          "text": [
            "{0: 0, 2: 4, 4: 16}\n"
          ]
        }
      ],
      "source": [
        "nums = [0, 1, 2, 3, 4]\n",
        "even_num_to_square = {x: x ** 2 for x in nums if x % 2 == 0}\n",
        "print(even_num_to_square)"
      ]
    },
    {
      "cell_type": "markdown",
      "metadata": {
        "id": "s65jxSdCQ0a0"
      },
      "source": [
        "딕셔너리에 관한 더 세부적인 사항은 [문서](https://docs.python.org/2/library/stdtypes.html#dict)를 참조하라.\n",
        "\n"
      ]
    },
    {
      "cell_type": "markdown",
      "metadata": {
        "id": "gS0beXLB4p_R"
      },
      "source": [
        "<font color=”blue”> **문제 3**: 위의 Stackoverflow 설문 결과에서 각 국가별 응답자의 수를 모두 카운트해보자."
      ]
    },
    {
      "cell_type": "markdown",
      "metadata": {
        "id": "a4zv42jR47ZC"
      },
      "source": [
        "Python은 카운팅을 위한 편리하고 특별한 클래스 `Counter`를 제공하지만 여기에서는 그냥 Dictionary를 이용해서 카운팅을 해보자."
      ]
    },
    {
      "cell_type": "code",
      "execution_count": null,
      "metadata": {
        "id": "DYniu85D5aE0"
      },
      "outputs": [],
      "source": [
        "import csv\n",
        "\n",
        "counter = {}\n",
        "with open(file_path, 'r') as f: \n",
        "  csvreader = csv.reader(f)\n",
        "  header = next(csvreader)\n",
        "\n",
        "  for row in csvreader:\n",
        "    if row[3] not in counter:\n",
        "      counter[row[3]] = 0\n",
        "      \n",
        "    counter[row[3]] += 1\n",
        "    \n",
        "print(counter)"
      ]
    },
    {
      "cell_type": "code",
      "execution_count": null,
      "metadata": {
        "id": "_O6ItGH6a77a"
      },
      "outputs": [],
      "source": [
        "print(sorted(counter))\n",
        "# print(counter.sort())   # Not working"
      ]
    },
    {
      "cell_type": "code",
      "execution_count": null,
      "metadata": {
        "id": "Jk8GfIUOMiSn"
      },
      "outputs": [],
      "source": [
        "print(sorted(counter.items()))"
      ]
    },
    {
      "cell_type": "code",
      "execution_count": null,
      "metadata": {
        "id": "mD_gw87vNOBO"
      },
      "outputs": [],
      "source": [
        "print(sorted(counter.items(), key=lambda kv : kv[1], reverse=True))"
      ]
    },
    {
      "cell_type": "markdown",
      "metadata": {
        "id": "3EB0sVhaNpg0"
      },
      "source": [
        "<font color=”blue”> **문제 4**: 위의 Stackoverflow 설문 결과에서 각 프로그래밍 언어별 응답자의 수를 모두 카운트하여, 각 언어의 사용 비율, 즉 각 언어별로 전체 응답자의 몇 퍼센트가 그 언어를 사용하는지 계산하여 비율이 높은 언어부터 순서대로 출력해보자."
      ]
    },
    {
      "cell_type": "code",
      "execution_count": null,
      "metadata": {
        "id": "8wfl7NINaNtU"
      },
      "outputs": [],
      "source": [
        "# Left as an exercise\n"
      ]
    },
    {
      "cell_type": "markdown",
      "metadata": {
        "id": "V9MHfUdvL9g2"
      },
      "source": [
        "## 집합(Set)"
      ]
    },
    {
      "cell_type": "markdown",
      "metadata": {
        "id": "Rpm4UtNpL9g2"
      },
      "source": [
        "집합은 순서가 없는 서로 다른 원소들의 모임이다"
      ]
    },
    {
      "cell_type": "code",
      "execution_count": null,
      "metadata": {
        "colab": {
          "base_uri": "https://localhost:8080/"
        },
        "id": "MmyaniLsL9g2",
        "outputId": "92acb77b-7a57-4a2d-85bd-46e39182e79e"
      },
      "outputs": [
        {
          "name": "stdout",
          "output_type": "stream",
          "text": [
            "True\n",
            "False\n"
          ]
        }
      ],
      "source": [
        "animals = {'cat', 'dog'}\n",
        "print('cat' in animals)   # Check if an element is in a set; prints \"True\"\n",
        "print('fish' in animals)  # prints \"False\"\n"
      ]
    },
    {
      "cell_type": "code",
      "execution_count": null,
      "metadata": {
        "colab": {
          "base_uri": "https://localhost:8080/"
        },
        "id": "ElJEyK86L9g6",
        "outputId": "cb68e655-18cd-4cb8-a7b0-cceb092f7cbe"
      },
      "outputs": [
        {
          "name": "stdout",
          "output_type": "stream",
          "text": [
            "True\n",
            "3\n"
          ]
        }
      ],
      "source": [
        "animals.add('fish')      # Add an element to a set\n",
        "print('fish' in animals)\n",
        "print(len(animals))       # Number of elements in a set;"
      ]
    },
    {
      "cell_type": "code",
      "execution_count": null,
      "metadata": {
        "colab": {
          "base_uri": "https://localhost:8080/"
        },
        "id": "5uGmrxdPL9g9",
        "outputId": "03a53e43-dcb4-42dd-810b-3cdebd4191d1"
      },
      "outputs": [
        {
          "name": "stdout",
          "output_type": "stream",
          "text": [
            "3\n",
            "2\n"
          ]
        }
      ],
      "source": [
        "animals.add('cat')       # Adding an element that is already in the set does nothing\n",
        "print(len(animals))       \n",
        "animals.remove('cat')    # Remove an element from a set\n",
        "print(len(animals))       "
      ]
    },
    {
      "cell_type": "markdown",
      "metadata": {
        "id": "zk2DbvLKL9g_"
      },
      "source": [
        "집합의 원소들간에는 순서가 없으므로 다음과 같이 집합의 원소들을 iterate할 때 항상 동일한 순서로 iterate되다고 가정해서는 않된다. "
      ]
    },
    {
      "cell_type": "code",
      "execution_count": null,
      "metadata": {
        "colab": {
          "base_uri": "https://localhost:8080/"
        },
        "id": "K47KYNGyL9hA",
        "outputId": "f02b970e-b146-4fcc-a2c2-9fbdb27c7a4a"
      },
      "outputs": [
        {
          "name": "stdout",
          "output_type": "stream",
          "text": [
            "#1: cat\n",
            "#2: fish\n",
            "#3: dog\n"
          ]
        }
      ],
      "source": [
        "animals = {'cat', 'dog', 'fish'}\n",
        "for idx, animal in enumerate(animals):\n",
        "    print('#{}: {}'.format(idx + 1, animal))"
      ]
    },
    {
      "cell_type": "markdown",
      "metadata": {
        "id": "puq4S8buL9hC"
      },
      "source": [
        "리스트와 마찬가지로 다음과 같이 set comprehension을 지원한다."
      ]
    },
    {
      "cell_type": "code",
      "execution_count": null,
      "metadata": {
        "colab": {
          "base_uri": "https://localhost:8080/"
        },
        "id": "iw7k90k3L9hC",
        "outputId": "4857c9ba-1c48-4f61-a376-d66dc07c54d2"
      },
      "outputs": [
        {
          "name": "stdout",
          "output_type": "stream",
          "text": [
            "{0, 1, 2, 3, 4, 5}\n"
          ]
        }
      ],
      "source": [
        "from math import sqrt\n",
        "print({int(sqrt(x)) for x in range(30)})"
      ]
    },
    {
      "cell_type": "markdown",
      "metadata": {
        "id": "qPsHSKB1L9hF"
      },
      "source": [
        "## 튜플(Tuple)"
      ]
    },
    {
      "cell_type": "markdown",
      "metadata": {
        "id": "kucc0LKVL9hG"
      },
      "source": [
        "튜플은 immutable한 리스트이다. 즉, 한 번 생성된 튜플은 값을 변경할 수 없다. 그점을 제외하고 튜플은 리스트와 매우 유사하지만 중요한 차이가 한가지 있다. **튜플은 딕셔너리의 key로 사용될 수 있지만 리스트는 그렇지 않다.** "
      ]
    },
    {
      "cell_type": "code",
      "execution_count": null,
      "metadata": {
        "colab": {
          "base_uri": "https://localhost:8080/"
        },
        "id": "9wHUyTKxL9hH",
        "outputId": "5f502d4c-69e6-4be1-bc40-77e90f9312c9"
      },
      "outputs": [
        {
          "name": "stdout",
          "output_type": "stream",
          "text": [
            "<class 'tuple'>\n",
            "5\n",
            "1\n"
          ]
        }
      ],
      "source": [
        "d = {(x, x + 1): x for x in range(10)}  # Create a dictionary with tuple keys\n",
        "t = (5, 6)       # Create a tuple\n",
        "print(type(t))\n",
        "print(d[t])       \n",
        "print(d[(1, 2)])\n",
        "\n",
        "'''\n",
        "def f():\n",
        "return x, y, z # 파이썬은 여러개의 값을 리턴 가능\n",
        "a,b,c = f() # 함수를 호출해서 받을 때도 여러개 가능\n",
        "'''\n"
      ]
    },
    {
      "cell_type": "code",
      "execution_count": null,
      "metadata": {
        "id": "HoO8zYKzL9hJ"
      },
      "outputs": [],
      "source": [
        "t[0] = 1"
      ]
    },
    {
      "cell_type": "markdown",
      "metadata": {
        "id": "AXA4jrEOL9hM"
      },
      "source": [
        "## 함수(Function)"
      ]
    },
    {
      "cell_type": "markdown",
      "metadata": {
        "id": "WaRms-QfL9hN"
      },
      "source": [
        "키워드 def를 사용하여 다음과 같이 함수를 정의한다. "
      ]
    },
    {
      "cell_type": "code",
      "execution_count": null,
      "metadata": {
        "colab": {
          "base_uri": "https://localhost:8080/"
        },
        "id": "kiMDUr58L9hN",
        "outputId": "1be7cc58-53f1-4623-eea4-109b7bc45907"
      },
      "outputs": [
        {
          "output_type": "stream",
          "name": "stdout",
          "text": [
            "negative\n",
            "zero\n",
            "positive\n"
          ]
        }
      ],
      "source": [
        "def sign(x):\n",
        "    if x > 0:\n",
        "        return 'positive'\n",
        "    elif x < 0:\n",
        "        return 'negative'\n",
        "    else:\n",
        "        return 'zero'\n",
        "\n",
        "for x in [-1, 0, 1]:\n",
        "    print(sign(x))"
      ]
    },
    {
      "cell_type": "markdown",
      "metadata": {
        "id": "U-QJFt8TL9hR"
      },
      "source": [
        "다음과 같이 optional argument와 그것의 default 값을 지정할 수 있다. "
      ]
    },
    {
      "cell_type": "code",
      "execution_count": null,
      "metadata": {
        "colab": {
          "base_uri": "https://localhost:8080/"
        },
        "id": "PfsZ3DazL9hR",
        "outputId": "f64852d4-aa38-472c-ee82-ff0ffaa42d63"
      },
      "outputs": [
        {
          "output_type": "stream",
          "name": "stdout",
          "text": [
            "Hello, Bob!\n",
            "HELLO, FRED\n"
          ]
        }
      ],
      "source": [
        "def hello(name, loud=False):\n",
        "    if loud:\n",
        "        print('HELLO, {}'.format(name.upper()))\n",
        "    else:\n",
        "        print('Hello, {}!'.format(name))\n",
        "\n",
        "hello('Bob')\n",
        "hello('Fred', loud=True)"
      ]
    },
    {
      "cell_type": "markdown",
      "metadata": {
        "id": "FsTyOjsiP9e3"
      },
      "source": [
        "Python의 함수는 다른 변수에 치환될 수 있고, 매개변수로 넘겨질 수 있다. 소위 '1급 시민'(First Class Citizen)이다."
      ]
    },
    {
      "cell_type": "code",
      "execution_count": null,
      "metadata": {
        "colab": {
          "base_uri": "https://localhost:8080/"
        },
        "id": "X1y6Eglenp_S",
        "outputId": "1ad6c0d9-f7f7-43b6-fa51-36fab1430071"
      },
      "outputs": [
        {
          "output_type": "stream",
          "name": "stdout",
          "text": [
            "Hello, John!\n"
          ]
        }
      ],
      "source": [
        "myfunc = hello\n",
        "myfunc('John')"
      ]
    },
    {
      "cell_type": "code",
      "execution_count": null,
      "metadata": {
        "colab": {
          "base_uri": "https://localhost:8080/"
        },
        "id": "RYzNVExAQUB4",
        "outputId": "3974d019-db6b-4de6-af77-4f8225138c2a"
      },
      "outputs": [
        {
          "output_type": "stream",
          "name": "stdout",
          "text": [
            "Hello, John!\n"
          ]
        }
      ],
      "source": [
        "def process(func):\n",
        "  func('John')\n",
        "\n",
        "process(hello)"
      ]
    },
    {
      "cell_type": "markdown",
      "metadata": {
        "id": "D4VQjKm6N56j"
      },
      "source": [
        "## Lambda"
      ]
    },
    {
      "cell_type": "markdown",
      "metadata": {
        "id": "5l0vCzgMQzBL"
      },
      "source": [
        "Lambda는 한 마디로 '익명의 함수'를 정의하는 규칙이다. 함수를 정의할 때는 코드 상의 여러 곳에서 반복적으로 호출될 것을 염두에 두는 것이 일반적이다. 반면 오직 한 번만 호출되는 함수가 있다면 이를 함수로 정의하는 것은 다소 번거롭다고 할 수 있다. 이럴 경우 lambda를 이용하면 코드를 간결하게 할 수 있다."
      ]
    },
    {
      "cell_type": "code",
      "execution_count": null,
      "metadata": {
        "colab": {
          "base_uri": "https://localhost:8080/"
        },
        "id": "jdiTdQmoPDq1",
        "outputId": "4d83587d-d673-4848-87b8-a0da85169b3c"
      },
      "outputs": [
        {
          "name": "stdout",
          "output_type": "stream",
          "text": [
            "[2, 4, 6, 8, 10, 12]\n"
          ]
        }
      ],
      "source": [
        "my_list = [1, 2, 3, 4, 5, 6]\n",
        "\n",
        "# Python의 map 함수는 하나의 iterable 객체(리스트, 튜플 등)와 iterable의 각 원소에 적용될 \n",
        "# 하나의 함수를 받아서 iterable의 각 원소에 그 함수를 적용한 결과를 \n",
        "# 하나의 map 객체로 반환한다.\n",
        "new_list = list(map(lambda x: x*2, my_list)) # 리턴 값이니까 한 문장만 있어야 함 x*2\n",
        "print(new_list) # [2, 4, 6, 8, 10, 12]"
      ]
    },
    {
      "cell_type": "code",
      "execution_count": null,
      "metadata": {
        "colab": {
          "base_uri": "https://localhost:8080/"
        },
        "id": "MWZXRmNkT-gj",
        "outputId": "1e88bff4-3ecc-42dc-f1d9-bdc49c875f01"
      },
      "outputs": [
        {
          "output_type": "stream",
          "name": "stdout",
          "text": [
            "[18, 5, 12]\n"
          ]
        }
      ],
      "source": [
        "my_list = [18, -3, 5, 0, -1, 12]\n",
        "\n",
        "# Python의 filter 함수는 하나의 iterable 객체와 iterable의 각 원소에 적용될 \n",
        "# 하나의 함수를 받아서 iterable의 각 원소에 그 함수를 적용한 결과가 True인 원소들만을 선택하여 \n",
        "# 하나의 map 객체로 반환한다.\n",
        "new_list = list(filter(lambda x: x > 0, my_list)) # filter 내가 원하는 것만 뽑아낸다.\n",
        "print(new_list) # [18, 5, 12]"
      ]
    },
    {
      "cell_type": "code",
      "execution_count": null,
      "metadata": {
        "colab": {
          "base_uri": "https://localhost:8080/"
        },
        "id": "6CoJOQPgUzll",
        "outputId": "6142f2fb-7440-4cd4-d0cb-e028d539eb4d"
      },
      "outputs": [
        {
          "output_type": "stream",
          "name": "stdout",
          "text": [
            "['afternoon', 'bye', 'hello', 'morning', 'today']\n",
            "['bye', 'hello', 'today', 'morning', 'afternoon']\n"
          ]
        }
      ],
      "source": [
        "words = ['hello', 'bye', 'morning', 'afternoon', 'today']\n",
        "print(sorted(words))\n",
        "print(sorted(words, key=lambda s: len(s)))"
      ]
    },
    {
      "cell_type": "markdown",
      "metadata": {
        "id": "ObA9PRtQL9hT"
      },
      "source": [
        "## 클래스(Class)"
      ]
    },
    {
      "cell_type": "markdown",
      "metadata": {
        "id": "hAzL_lTkL9hU"
      },
      "source": [
        "Python에서는 다음과 같이 클래스를 정의한다. "
      ]
    },
    {
      "cell_type": "code",
      "execution_count": null,
      "metadata": {
        "colab": {
          "base_uri": "https://localhost:8080/"
        },
        "id": "RWdbaGigL9hU",
        "outputId": "e18bc0ea-3fc8-49fb-e49e-bf28bb942b46"
      },
      "outputs": [
        {
          "name": "stdout",
          "output_type": "stream",
          "text": [
            "Hello, Fred!\n",
            "HELLO, FRED\n"
          ]
        }
      ],
      "source": [
        "class Greeter:\n",
        "\n",
        "    # Constructor\n",
        "    def __init__(self, name): # 클래스 생성자\n",
        "        self.name = name  # Create an instance variable\n",
        "\n",
        "    # Instance method\n",
        "    def greet(self, loud=False):\n",
        "        if loud:\n",
        "          print('HELLO, {}'.format(self.name.upper()))\n",
        "        else:\n",
        "          print('Hello, {}!'.format(self.name))\n",
        "\n",
        "g = Greeter('Fred')  # Construct an instance of the Greeter class\n",
        "g.greet()            # Call an instance method; prints \"Hello, Fred\"\n",
        "g.greet(loud=True)   # Call an instance method; prints \"HELLO, FRED!\""
      ]
    }
  ],
  "metadata": {
    "colab": {
      "collapsed_sections": [],
      "name": "01 Python.ipynb의 사본",
      "provenance": [],
      "include_colab_link": true
    },
    "kernelspec": {
      "display_name": "Python 3 (ipykernel)",
      "language": "python",
      "name": "python3"
    },
    "language_info": {
      "codemirror_mode": {
        "name": "ipython",
        "version": 3
      },
      "file_extension": ".py",
      "mimetype": "text/x-python",
      "name": "python",
      "nbconvert_exporter": "python",
      "pygments_lexer": "ipython3",
      "version": "3.9.7"
    }
  },
  "nbformat": 4,
  "nbformat_minor": 0
}